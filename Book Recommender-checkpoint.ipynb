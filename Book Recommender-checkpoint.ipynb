{
 "cells": [
  {
   "cell_type": "markdown",
   "id": "17eee64c",
   "metadata": {},
   "source": [
    "### BOOKS RECOMMENDER SYSTEM USING CLUSTERING | COLLABORATIVE BASED"
   ]
  },
  {
   "cell_type": "code",
   "execution_count": 1,
   "id": "58d89fd4",
   "metadata": {},
   "outputs": [],
   "source": [
    "import pandas as pd\n",
    "import numpy as np\n",
    "import matplotlib.pyplot as plt\n",
    "import seaborn as sns"
   ]
  },
  {
   "cell_type": "code",
   "execution_count": 2,
   "id": "310ae1e5",
   "metadata": {},
   "outputs": [],
   "source": [
    "books = pd.read_csv('Books.csv' , sep= \";\" ,on_bad_lines='skip' , encoding = 'latin-1')"
   ]
  },
  {
   "cell_type": "code",
   "execution_count": null,
   "id": "2adc4f7d",
   "metadata": {},
   "outputs": [],
   "source": [
    "books.head(2)"
   ]
  },
  {
   "cell_type": "code",
   "execution_count": null,
   "id": "4a437d82",
   "metadata": {},
   "outputs": [],
   "source": [
    "import csv\n",
    "\n",
    "with open('Books.csv', 'r') as file:\n",
    "    reader = csv.reader(file)\n",
    "    for row in reader:\n",
    "        isbn, title, author, year, publisher, img_url_s, img_url_m, img_url_l = row\n",
    "        print(\"ISBN:\", isbn)\n",
    "        print(\"Book Title:\", title)\n",
    "        print(\"Book Author:\", author)\n",
    "        print(\"Year of Publication:\", year)\n",
    "        print(\"Publisher:\", publisher)\n",
    "        print(\"Image URL (S):\", img_url_s)\n",
    "        print(\"Image URL (M):\", img_url_m)\n",
    "        print(\"Image URL (L):\", img_url_l)"
   ]
  },
  {
   "cell_type": "code",
   "execution_count": null,
   "id": "cf38e84b",
   "metadata": {},
   "outputs": [],
   "source": [
    "books.shape\n"
   ]
  },
  {
   "cell_type": "code",
   "execution_count": 6,
   "id": "643b7665",
   "metadata": {},
   "outputs": [],
   "source": [
    "import pandas as pd\n",
    "\n",
    "# Specify data types for problematic columns\n",
    "dtype_specification = {'Year-Of-Publication': str}  # Assuming Year-Of-Publication is the problematic column\n",
    "\n",
    "# Read the CSV file into a DataFrame\n",
    "df = pd.read_csv('Books.csv', dtype=dtype_specification)\n",
    "\n",
    "# Access each column independently\n",
    "isbns = df['ISBN']\n",
    "titles = df['Book-Title']\n",
    "authors = df['Book-Author']\n",
    "years = df['Year-Of-Publication']\n",
    "publishers = df['Publisher']\n",
    "image_urls_s = df['Image-URL-S']\n",
    "image_urls_m = df['Image-URL-M']\n",
    "image_urls_l = df['Image-URL-L']\n",
    "\n",
    "\n"
   ]
  },
  {
   "cell_type": "code",
   "execution_count": null,
   "id": "3f8fd7d8",
   "metadata": {},
   "outputs": [],
   "source": [
    "df.shape"
   ]
  },
  {
   "cell_type": "code",
   "execution_count": null,
   "id": "b0706d05",
   "metadata": {},
   "outputs": [],
   "source": [
    "books.shape"
   ]
  },
  {
   "cell_type": "code",
   "execution_count": null,
   "id": "c3976982",
   "metadata": {},
   "outputs": [],
   "source": [
    "df.head(5)"
   ]
  },
  {
   "cell_type": "code",
   "execution_count": null,
   "id": "9b1b8926",
   "metadata": {},
   "outputs": [],
   "source": [
    "df.columns"
   ]
  },
  {
   "cell_type": "code",
   "execution_count": 11,
   "id": "353c83b8",
   "metadata": {},
   "outputs": [],
   "source": [
    "df = df[['ISBN', 'Book-Title', 'Book-Author', 'Year-Of-Publication', 'Publisher',\n",
    "       'Image-URL-L']]"
   ]
  },
  {
   "cell_type": "code",
   "execution_count": null,
   "id": "897a03af",
   "metadata": {},
   "outputs": [],
   "source": [
    "df.head(2)"
   ]
  },
  {
   "cell_type": "code",
   "execution_count": 13,
   "id": "6157ebd1",
   "metadata": {},
   "outputs": [],
   "source": [
    "df.rename(columns={\n",
    "    \"Book-Title\":\"title\",\n",
    "    \"Book-Author\":\"author\",\n",
    "    \"year-Of-Publication\":\"year\",\n",
    "    \"Publisher\":\"publisher\",\n",
    "    \"Image-URL-L\":\"img_url\"} ,inplace = True)"
   ]
  },
  {
   "cell_type": "code",
   "execution_count": null,
   "id": "d014935b",
   "metadata": {},
   "outputs": [],
   "source": [
    "df.head(4)"
   ]
  },
  {
   "cell_type": "code",
   "execution_count": 15,
   "id": "56d53bac",
   "metadata": {},
   "outputs": [],
   "source": [
    "users = pd.read_csv(\"Users.csv\" , sep = \";\" , on_bad_lines='skip' , encoding = 'latin-1')"
   ]
  },
  {
   "cell_type": "code",
   "execution_count": null,
   "id": "1df156c2",
   "metadata": {},
   "outputs": [],
   "source": [
    "users.head()"
   ]
  },
  {
   "cell_type": "code",
   "execution_count": 17,
   "id": "e3dbc4f6",
   "metadata": {},
   "outputs": [],
   "source": [
    "\n",
    "\n",
    "# Read the CSV file into a DataFrame\n",
    "user_df = pd.read_csv('Users.csv')\n",
    "\n",
    "# Access each column independently\n",
    "user_ids = user_df['User-ID']\n",
    "locations = user_df['Location']\n",
    "ages = user_df['Age']\n",
    "\n"
   ]
  },
  {
   "cell_type": "code",
   "execution_count": null,
   "id": "6b925bc7",
   "metadata": {},
   "outputs": [],
   "source": [
    "user_df.shape"
   ]
  },
  {
   "cell_type": "code",
   "execution_count": null,
   "id": "dfc5c321",
   "metadata": {},
   "outputs": [],
   "source": [
    "user_df.head(2)"
   ]
  },
  {
   "cell_type": "code",
   "execution_count": 20,
   "id": "9617c2d2",
   "metadata": {},
   "outputs": [],
   "source": [
    "ratings = pd.read_csv(\"Ratings.csv\" , sep = \";\" , on_bad_lines='skip' , encoding = 'latin-1')"
   ]
  },
  {
   "cell_type": "code",
   "execution_count": null,
   "id": "48a2b87c",
   "metadata": {},
   "outputs": [],
   "source": [
    "ratings.shape"
   ]
  },
  {
   "cell_type": "code",
   "execution_count": null,
   "id": "6b16cdc1",
   "metadata": {},
   "outputs": [],
   "source": [
    "ratings.head(2)"
   ]
  },
  {
   "cell_type": "code",
   "execution_count": 23,
   "id": "0b200050",
   "metadata": {},
   "outputs": [],
   "source": [
    "# Read the CSV file into a DataFrame\n",
    "rating_df = pd.read_csv('Ratings.csv')\n",
    "\n",
    "# Access each column independently\n",
    "user_ids = rating_df['User-ID']\n",
    "isbns = rating_df['ISBN']\n",
    "book_ratings = rating_df['Book-Rating']\n",
    "\n",
    "\n"
   ]
  },
  {
   "cell_type": "code",
   "execution_count": null,
   "id": "a19103cf",
   "metadata": {},
   "outputs": [],
   "source": [
    "rating_df.head(2)"
   ]
  },
  {
   "cell_type": "code",
   "execution_count": null,
   "id": "e74cfa08",
   "metadata": {},
   "outputs": [],
   "source": [
    "rating_df.shape"
   ]
  },
  {
   "cell_type": "code",
   "execution_count": null,
   "id": "53f26439",
   "metadata": {},
   "outputs": [],
   "source": [
    "print(df.shape)\n",
    "print(user_df.shape)\n",
    "print(rating_df.shape)"
   ]
  },
  {
   "cell_type": "code",
   "execution_count": 27,
   "id": "ee449c2c",
   "metadata": {},
   "outputs": [],
   "source": [
    "rating_df.rename(columns = {\n",
    "    \"User-ID\":\"user_id\",\n",
    "    \"Book-Rating\":\"rating\"\n",
    "},inplace=True)"
   ]
  },
  {
   "cell_type": "code",
   "execution_count": null,
   "id": "6aa53870",
   "metadata": {},
   "outputs": [],
   "source": [
    "rating_df.head()"
   ]
  },
  {
   "cell_type": "code",
   "execution_count": null,
   "id": "955ff7c2",
   "metadata": {},
   "outputs": [],
   "source": [
    "rating_df['user_id'].value_counts()"
   ]
  },
  {
   "cell_type": "code",
   "execution_count": null,
   "id": "6cf30b20",
   "metadata": {},
   "outputs": [],
   "source": [
    "rating_df['user_id'].unique().shape"
   ]
  },
  {
   "cell_type": "code",
   "execution_count": 31,
   "id": "715bf983",
   "metadata": {},
   "outputs": [],
   "source": [
    "x = rating_df['user_id'].value_counts() > 200"
   ]
  },
  {
   "cell_type": "code",
   "execution_count": null,
   "id": "b7c0f3fe",
   "metadata": {},
   "outputs": [],
   "source": [
    "x[x].shape"
   ]
  },
  {
   "cell_type": "code",
   "execution_count": 33,
   "id": "b44a426f",
   "metadata": {},
   "outputs": [],
   "source": [
    "y = x[x].index"
   ]
  },
  {
   "cell_type": "code",
   "execution_count": 34,
   "id": "019bc6d5",
   "metadata": {},
   "outputs": [],
   "source": [
    "rating_df = rating_df[rating_df['user_id'].isin(y)]"
   ]
  },
  {
   "cell_type": "code",
   "execution_count": null,
   "id": "35424ff8",
   "metadata": {},
   "outputs": [],
   "source": [
    "rating_df.shape"
   ]
  },
  {
   "cell_type": "code",
   "execution_count": 36,
   "id": "bba9a346",
   "metadata": {},
   "outputs": [],
   "source": [
    "ratings_with_books = rating_df.merge(df, on=\"ISBN\" )"
   ]
  },
  {
   "cell_type": "code",
   "execution_count": null,
   "id": "b07730bc",
   "metadata": {},
   "outputs": [],
   "source": [
    "ratings_with_books.head()"
   ]
  },
  {
   "cell_type": "code",
   "execution_count": null,
   "id": "4320c0ff",
   "metadata": {},
   "outputs": [],
   "source": [
    "ratings_with_books.shape"
   ]
  },
  {
   "cell_type": "code",
   "execution_count": 39,
   "id": "819b1eac",
   "metadata": {},
   "outputs": [],
   "source": [
    "num_rating = ratings_with_books.groupby('title')['rating'].count().reset_index()"
   ]
  },
  {
   "cell_type": "code",
   "execution_count": null,
   "id": "e769e356",
   "metadata": {},
   "outputs": [],
   "source": [
    "num_rating.head()"
   ]
  },
  {
   "cell_type": "code",
   "execution_count": 41,
   "id": "21265dcf",
   "metadata": {},
   "outputs": [],
   "source": [
    "num_rating.rename(columns={\"rating\":\"num_of_rating\"},inplace=True)"
   ]
  },
  {
   "cell_type": "code",
   "execution_count": null,
   "id": "b4330bd1",
   "metadata": {},
   "outputs": [],
   "source": [
    "num_rating.head()"
   ]
  },
  {
   "cell_type": "code",
   "execution_count": 43,
   "id": "53373b3f",
   "metadata": {},
   "outputs": [],
   "source": [
    "final_rating = ratings_with_books.merge(num_rating ,on='title' )"
   ]
  },
  {
   "cell_type": "code",
   "execution_count": null,
   "id": "89dce941",
   "metadata": {},
   "outputs": [],
   "source": [
    "final_rating.head(2)"
   ]
  },
  {
   "cell_type": "code",
   "execution_count": null,
   "id": "cc83f031",
   "metadata": {},
   "outputs": [],
   "source": [
    "final_rating.shape"
   ]
  },
  {
   "cell_type": "code",
   "execution_count": 46,
   "id": "3b85b26a",
   "metadata": {},
   "outputs": [],
   "source": [
    "final_rating = final_rating[final_rating['num_of_rating'] >= 50]"
   ]
  },
  {
   "cell_type": "code",
   "execution_count": null,
   "id": "6cadc9e6",
   "metadata": {},
   "outputs": [],
   "source": [
    "final_rating.sample(10)"
   ]
  },
  {
   "cell_type": "code",
   "execution_count": null,
   "id": "e3933069",
   "metadata": {},
   "outputs": [],
   "source": [
    "final_rating.shape"
   ]
  },
  {
   "cell_type": "code",
   "execution_count": 49,
   "id": "72471a45",
   "metadata": {},
   "outputs": [],
   "source": [
    "final_rating.drop_duplicates(['title','user_id'],inplace=True)"
   ]
  },
  {
   "cell_type": "code",
   "execution_count": null,
   "id": "54621607",
   "metadata": {},
   "outputs": [],
   "source": [
    "final_rating.shape"
   ]
  },
  {
   "cell_type": "code",
   "execution_count": 51,
   "id": "53cddd36",
   "metadata": {},
   "outputs": [],
   "source": [
    "book_pivot = final_rating.pivot_table(columns='user_id' , index = 'title' , values = 'rating')"
   ]
  },
  {
   "cell_type": "code",
   "execution_count": null,
   "id": "107d3670",
   "metadata": {},
   "outputs": [],
   "source": [
    "book_pivot"
   ]
  },
  {
   "cell_type": "code",
   "execution_count": 53,
   "id": "7dd0b559",
   "metadata": {},
   "outputs": [],
   "source": [
    "book_pivot.fillna(0,inplace=True)"
   ]
  },
  {
   "cell_type": "code",
   "execution_count": null,
   "id": "2903dcfc",
   "metadata": {},
   "outputs": [],
   "source": [
    "book_pivot"
   ]
  },
  {
   "cell_type": "code",
   "execution_count": 55,
   "id": "c1c6f233",
   "metadata": {},
   "outputs": [],
   "source": [
    "from scipy.sparse import csr_matrix"
   ]
  },
  {
   "cell_type": "code",
   "execution_count": 56,
   "id": "43981d87",
   "metadata": {},
   "outputs": [],
   "source": [
    "book_sparse = csr_matrix(book_pivot)"
   ]
  },
  {
   "cell_type": "code",
   "execution_count": null,
   "id": "f0458ebd",
   "metadata": {},
   "outputs": [],
   "source": [
    "book_sparse"
   ]
  },
  {
   "cell_type": "code",
   "execution_count": 58,
   "id": "c377e8f0",
   "metadata": {},
   "outputs": [],
   "source": [
    "from sklearn.neighbors import NearestNeighbors\n",
    "model = NearestNeighbors(algorithm='brute')\n"
   ]
  },
  {
   "cell_type": "code",
   "execution_count": null,
   "id": "251d32a7",
   "metadata": {},
   "outputs": [],
   "source": [
    "model.fit(book_sparse)"
   ]
  },
  {
   "cell_type": "code",
   "execution_count": 60,
   "id": "01a2a08c",
   "metadata": {},
   "outputs": [],
   "source": [
    "distance, suggestion = model.kneighbors(book_pivot.iloc[237,:].values.reshape(1,-1),n_neighbors=6)"
   ]
  },
  {
   "cell_type": "code",
   "execution_count": null,
   "id": "8562e478",
   "metadata": {},
   "outputs": [],
   "source": [
    "distance"
   ]
  },
  {
   "cell_type": "code",
   "execution_count": null,
   "id": "3bbf00ab",
   "metadata": {},
   "outputs": [],
   "source": [
    "suggestion"
   ]
  },
  {
   "cell_type": "code",
   "execution_count": null,
   "id": "76718f22",
   "metadata": {},
   "outputs": [],
   "source": [
    "for index in range(len(suggestion)):\n",
    "    print(book_pivot.index[suggestion[index]])"
   ]
  },
  {
   "cell_type": "code",
   "execution_count": null,
   "id": "9b4130f5",
   "metadata": {},
   "outputs": [],
   "source": [
    "book_pivot.index[3]"
   ]
  },
  {
   "cell_type": "code",
   "execution_count": 65,
   "id": "2f2eb319",
   "metadata": {},
   "outputs": [],
   "source": [
    "books_name = book_pivot.index"
   ]
  },
  {
   "cell_type": "code",
   "execution_count": 66,
   "id": "cfd7d53f",
   "metadata": {},
   "outputs": [],
   "source": [
    "import pickle\n",
    "pickle.dump(model , open('artifacts/model.pkl','wb'))\n",
    "pickle.dump(books_name , open('artifacts/books_name.pkl','wb'))\n",
    "pickle.dump(final_rating , open('artifacts/final_rating.pkl','wb'))\n",
    "pickle.dump(book_pivot , open('artifacts/book_pivot.pkl','wb'))"
   ]
  },
  {
   "cell_type": "code",
   "execution_count": 67,
   "id": "c4e5edf2",
   "metadata": {},
   "outputs": [],
   "source": [
    "def recommend_book(book_name):\n",
    "    book_id= np.where(book_pivot.index == book_name)[0][0]\n",
    "    distance, suggestion = model.kneighbors(book_pivot.iloc[book_id,:].values.reshape(1,-1),n_neighbors=6)\n",
    "    for i in range(len(suggestion)):\n",
    "        books = book_pivot.index[suggestion[i]]\n",
    "        for book in books:\n",
    "            print(book)"
   ]
  },
  {
   "cell_type": "code",
   "execution_count": null,
   "id": "5939ebf9",
   "metadata": {},
   "outputs": [],
   "source": [
    "book_name = 'Exclusive'\n",
    "recommend_book(book_name)"
   ]
  },
  {
   "cell_type": "code",
   "execution_count": null,
   "id": "a9dc035e",
   "metadata": {},
   "outputs": [],
   "source": []
  }
 ],
 "metadata": {
  "kernelspec": {
   "display_name": "base",
   "language": "python",
   "name": "python3"
  },
  "language_info": {
   "codemirror_mode": {
    "name": "ipython",
    "version": 3
   },
   "file_extension": ".py",
   "mimetype": "text/x-python",
   "name": "python",
   "nbconvert_exporter": "python",
   "pygments_lexer": "ipython3",
   "version": "3.11.7"
  }
 },
 "nbformat": 4,
 "nbformat_minor": 5
}
